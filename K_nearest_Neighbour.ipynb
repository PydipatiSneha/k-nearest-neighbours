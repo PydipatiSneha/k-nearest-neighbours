{
  "nbformat": 4,
  "nbformat_minor": 0,
  "metadata": {
    "colab": {
      "name": "K-nearest Neighbour.ipynb",
      "provenance": [],
      "authorship_tag": "ABX9TyNiTL0ei/tT26y9PtcRk3Tq",
      "include_colab_link": true
    },
    "kernelspec": {
      "name": "python3",
      "display_name": "Python 3"
    },
    "language_info": {
      "name": "python"
    }
  },
  "cells": [
    {
      "cell_type": "markdown",
      "metadata": {
        "id": "view-in-github",
        "colab_type": "text"
      },
      "source": [
        "<a href=\"https://colab.research.google.com/github/PydipatiSneha/k-nearest-neighbours/blob/main/K_nearest_Neighbour.ipynb\" target=\"_parent\"><img src=\"https://colab.research.google.com/assets/colab-badge.svg\" alt=\"Open In Colab\"/></a>"
      ]
    },
    {
      "cell_type": "code",
      "metadata": {
        "id": "_4wnBZ5H45x4"
      },
      "source": [
        "import pandas as pd"
      ],
      "execution_count": 1,
      "outputs": []
    },
    {
      "cell_type": "code",
      "metadata": {
        "id": "eR4hpoPwzi6A",
        "colab": {
          "base_uri": "https://localhost:8080/"
        },
        "outputId": "6e0f66b6-419b-41b9-a1f9-d62786b89895"
      },
      "source": [
        "data=pd.read_csv(\"/content/cars.csv\")\n",
        "print(data)"
      ],
      "execution_count": 2,
      "outputs": [
        {
          "output_type": "stream",
          "text": [
            "   S.NO   color    type    origin stolen(class)\n",
            "0     1     red  sports  domestic           yes\n",
            "1     2     red  sports  domestic            no\n",
            "2     3     red     suv  imported            no\n",
            "3     4  yellow  sports  imported           yes\n",
            "4     5  yellow     suv  imported           yes\n",
            "5     6     red  sports  imported           yes\n"
          ],
          "name": "stdout"
        }
      ]
    },
    {
      "cell_type": "code",
      "metadata": {
        "colab": {
          "base_uri": "https://localhost:8080/"
        },
        "id": "Ils2mfTE6ycN",
        "outputId": "0ba9ce3d-5a85-487a-a09b-bd9b4adc3394"
      },
      "source": [
        "from sklearn import preprocessing\n",
        "#creating labelEncoder\n",
        "le = preprocessing.LabelEncoder()\n",
        "# Converting string labels into numbers.\n",
        "Color_encoded=le.fit_transform(data['color'])\n",
        "Type_encoded=le.fit_transform(data['type'])\n",
        "Origin_encoded=le.fit_transform(data['origin'])\n",
        "label=le.fit_transform(data['stolen(class)'])\n",
        "print (Color_encoded)\n",
        "print (Type_encoded)\n",
        "print (Origin_encoded)\n",
        "print (label)"
      ],
      "execution_count": 3,
      "outputs": [
        {
          "output_type": "stream",
          "text": [
            "[0 0 0 1 1 0]\n",
            "[0 0 1 0 1 0]\n",
            "[0 0 1 1 1 1]\n",
            "[1 0 0 1 1 1]\n"
          ],
          "name": "stdout"
        }
      ]
    },
    {
      "cell_type": "code",
      "metadata": {
        "colab": {
          "base_uri": "https://localhost:8080/"
        },
        "id": "5cZgMQ2s66Oy",
        "outputId": "9b030460-4e14-4852-91f3-4cfb24accf25"
      },
      "source": [
        "features=zip(Color_encoded,Type_encoded,Origin_encoded)\n",
        "f=list(features)\n",
        "print(f)"
      ],
      "execution_count": 4,
      "outputs": [
        {
          "output_type": "stream",
          "text": [
            "[(0, 0, 0), (0, 0, 0), (0, 1, 1), (1, 0, 1), (1, 1, 1), (0, 0, 1)]\n"
          ],
          "name": "stdout"
        }
      ]
    },
    {
      "cell_type": "code",
      "metadata": {
        "colab": {
          "base_uri": "https://localhost:8080/"
        },
        "id": "aTc7oae46_VT",
        "outputId": "98a4e482-045c-434f-c78b-6ad2601c5cb0"
      },
      "source": [
        "from sklearn.neighbors import KNeighborsClassifier\n",
        "model = KNeighborsClassifier(n_neighbors=3)\n",
        "\n",
        "# Train the model using the training sets\n",
        "model.fit(f,label)\n",
        "\n",
        "#Predict Output\n",
        "predicted= model.predict([[1,1,0]]) # 1:Yellow, 1:Sports,0:Domestic\n",
        "print(predicted)"
      ],
      "execution_count": 5,
      "outputs": [
        {
          "output_type": "stream",
          "text": [
            "[0]\n"
          ],
          "name": "stdout"
        }
      ]
    }
  ]
}